{
 "cells": [
  {
   "cell_type": "code",
   "execution_count": 1,
   "id": "15ad06bc-06ea-4817-9d62-d6de1d3f2d8e",
   "metadata": {},
   "outputs": [],
   "source": [
    "import tensorflow as tf\n",
    "import numpy as np\n",
    "import cv2"
   ]
  },
  {
   "cell_type": "code",
   "execution_count": 2,
   "id": "a914b7f6-c152-4d7a-9377-11a91e22e5fa",
   "metadata": {},
   "outputs": [],
   "source": [
    "gpus = tf.config.list_physical_devices('GPU')\n",
    "if gpus:\n",
    "    for gpu in gpus:\n",
    "        tf.config.experimental.set_memory_growth(gpu, True)"
   ]
  },
  {
   "cell_type": "code",
   "execution_count": 3,
   "id": "b3f14446-2533-4127-968b-95d953df0e90",
   "metadata": {},
   "outputs": [],
   "source": [
    "model = tf.keras.models.load_model(\"model_vgg16\")"
   ]
  },
  {
   "cell_type": "code",
   "execution_count": 4,
   "id": "5fc8a059-b4f5-4d6b-acf8-aee72a95fd5a",
   "metadata": {},
   "outputs": [],
   "source": [
    "cap = cv2.VideoCapture(0)\n",
    "while cap.isOpened():\n",
    "    _, frame = cap.read()\n",
    "    # here is setting the frame to 450 W, 450 H pixels\n",
    "    frame = frame[50:500, 50:500, :]\n",
    "\n",
    "    # convert from bgr to rgb due to opencv reads in bgr\n",
    "    rgb = cv2.cvtColor(frame, cv2.COLOR_BGR2RGB)\n",
    "    # resize the rgb to 120, 120 which compatible with the model for prediction\n",
    "    resized = tf.image.resize(rgb, (120, 120))\n",
    "    # as well as adding the batch and rescaling before predicting\n",
    "    pred = model.predict(np.expand_dims(resized/255., axis=0))\n",
    "    # here is to get the predicted coords which is predicting for one image\n",
    "    sample_coords = pred[1][0]\n",
    "\n",
    "    # here is to get whether a face is being detected or not over a threshold which is also predicting for one image\n",
    "    if pred[0] > 0.5:\n",
    "        # controls the main bounding box\n",
    "        cv2.rectangle(frame,\n",
    "                      tuple(np.multiply(sample_coords[:2], [450, 450]).astype(int)),\n",
    "                      tuple(np.multiply(sample_coords[2:], [450, 450]).astype(int)),\n",
    "                      (255,0,0),\n",
    "                      2)\n",
    "\n",
    "        # controls the label rectangle\n",
    "        cv2.rectangle(frame,\n",
    "                      tuple(np.add(np.multiply(sample_coords[:2], [450, 450]).astype(int),\n",
    "                                   [0, -30])),\n",
    "                      tuple(np.add(np.multiply(sample_coords[:2], [450, 450]).astype(int),\n",
    "                                   [80, 0])),\n",
    "                      (255,0,0),\n",
    "                      -1)\n",
    "\n",
    "        # this is to put the label on the bounding box\n",
    "        cv2.putText(frame, \"face\", tuple(np.add(np.multiply(sample_coords[:2], [450, 450]).astype(int),\n",
    "                                   [0, -5])),\n",
    "                    cv2.FONT_HERSHEY_SIMPLEX, 1, (255, 255, 255), 2, cv2.LINE_AA)\n",
    "\n",
    "    cv2.imshow(\"Face Detection\", frame)\n",
    "\n",
    "    if cv2.waitKey(1) & 0xFF == ord('q'):\n",
    "        break\n",
    "\n",
    "cap.release()\n",
    "cv2.destroyAllWindows()"
   ]
  },
  {
   "cell_type": "code",
   "execution_count": null,
   "id": "20e5a9c8-43f3-422c-8f79-97f8d6489310",
   "metadata": {},
   "outputs": [],
   "source": []
  }
 ],
 "metadata": {
  "kernelspec": {
   "display_name": "mldl",
   "language": "python",
   "name": "mldl"
  },
  "language_info": {
   "codemirror_mode": {
    "name": "ipython",
    "version": 3
   },
   "file_extension": ".py",
   "mimetype": "text/x-python",
   "name": "python",
   "nbconvert_exporter": "python",
   "pygments_lexer": "ipython3",
   "version": "3.9.2"
  }
 },
 "nbformat": 4,
 "nbformat_minor": 5
}
